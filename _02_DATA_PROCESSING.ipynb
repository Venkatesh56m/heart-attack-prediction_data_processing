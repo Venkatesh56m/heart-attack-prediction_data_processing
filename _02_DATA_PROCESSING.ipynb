{
 "cells": [
  {
   "cell_type": "markdown",
   "id": "bcb9319d-6ae6-4dfa-a7c8-7b79cf6e0d36",
   "metadata": {},
   "source": [
    "🧼 Data Processing & Cleaning Plan\n",
    "\n",
    "\n",
    "Load the Data\n",
    "\n",
    "Check Column Names\n",
    "\n",
    "Handle Missing Values\n",
    "\n",
    "Handle Duplicates\n",
    "\n",
    "Convert Data Types\n",
    "\n",
    "Encode Categorical Features\n",
    "\n",
    "Scale/Normalize Numerical Features\n",
    "\n",
    "Save Cleaned Data\n",
    "\n"
   ]
  },
  {
   "cell_type": "markdown",
   "id": "50a7c912-d4eb-433d-a302-1d83bf6588bf",
   "metadata": {},
   "source": [
    "1. Load the Data"
   ]
  },
  {
   "cell_type": "code",
   "execution_count": 54,
   "id": "b0afe903-3a5f-459c-b14d-916014dcf383",
   "metadata": {
    "execution": {
     "iopub.execute_input": "2025-04-08T08:30:12.141079Z",
     "iopub.status.busy": "2025-04-08T08:30:12.141079Z",
     "iopub.status.idle": "2025-04-08T08:30:13.222832Z",
     "shell.execute_reply": "2025-04-08T08:30:13.222256Z",
     "shell.execute_reply.started": "2025-04-08T08:30:12.141079Z"
    }
   },
   "outputs": [
    {
     "name": "stdout",
     "output_type": "stream",
     "text": [
      "(372974, 32)\n"
     ]
    },
    {
     "data": {
      "text/html": [
       "<div>\n",
       "<style scoped>\n",
       "    .dataframe tbody tr th:only-of-type {\n",
       "        vertical-align: middle;\n",
       "    }\n",
       "\n",
       "    .dataframe tbody tr th {\n",
       "        vertical-align: top;\n",
       "    }\n",
       "\n",
       "    .dataframe thead th {\n",
       "        text-align: right;\n",
       "    }\n",
       "</style>\n",
       "<table border=\"1\" class=\"dataframe\">\n",
       "  <thead>\n",
       "    <tr style=\"text-align: right;\">\n",
       "      <th></th>\n",
       "      <th>Age</th>\n",
       "      <th>Gender</th>\n",
       "      <th>Cholesterol</th>\n",
       "      <th>BloodPressure</th>\n",
       "      <th>HeartRate</th>\n",
       "      <th>BMI</th>\n",
       "      <th>Smoker</th>\n",
       "      <th>Diabetes</th>\n",
       "      <th>Hypertension</th>\n",
       "      <th>FamilyHistory</th>\n",
       "      <th>...</th>\n",
       "      <th>ExerciseInducedAngina</th>\n",
       "      <th>Slope</th>\n",
       "      <th>NumberOfMajorVessels</th>\n",
       "      <th>Thalassemia</th>\n",
       "      <th>PreviousHeartAttack</th>\n",
       "      <th>StrokeHistory</th>\n",
       "      <th>Residence</th>\n",
       "      <th>EmploymentStatus</th>\n",
       "      <th>MaritalStatus</th>\n",
       "      <th>Outcome</th>\n",
       "    </tr>\n",
       "  </thead>\n",
       "  <tbody>\n",
       "    <tr>\n",
       "      <th>0</th>\n",
       "      <td>31</td>\n",
       "      <td>Male</td>\n",
       "      <td>194</td>\n",
       "      <td>162</td>\n",
       "      <td>71</td>\n",
       "      <td>22.9</td>\n",
       "      <td>0</td>\n",
       "      <td>1</td>\n",
       "      <td>0</td>\n",
       "      <td>0</td>\n",
       "      <td>...</td>\n",
       "      <td>Yes</td>\n",
       "      <td>Downsloping</td>\n",
       "      <td>1</td>\n",
       "      <td>Normal</td>\n",
       "      <td>0</td>\n",
       "      <td>0</td>\n",
       "      <td>Suburban</td>\n",
       "      <td>Retired</td>\n",
       "      <td>Single</td>\n",
       "      <td>No Heart Attack</td>\n",
       "    </tr>\n",
       "    <tr>\n",
       "      <th>1</th>\n",
       "      <td>69</td>\n",
       "      <td>Male</td>\n",
       "      <td>208</td>\n",
       "      <td>148</td>\n",
       "      <td>93</td>\n",
       "      <td>33.9</td>\n",
       "      <td>1</td>\n",
       "      <td>1</td>\n",
       "      <td>0</td>\n",
       "      <td>0</td>\n",
       "      <td>...</td>\n",
       "      <td>Yes</td>\n",
       "      <td>Upsloping</td>\n",
       "      <td>2</td>\n",
       "      <td>Normal</td>\n",
       "      <td>0</td>\n",
       "      <td>0</td>\n",
       "      <td>Suburban</td>\n",
       "      <td>Unemployed</td>\n",
       "      <td>Married</td>\n",
       "      <td>No Heart Attack</td>\n",
       "    </tr>\n",
       "    <tr>\n",
       "      <th>2</th>\n",
       "      <td>34</td>\n",
       "      <td>Female</td>\n",
       "      <td>132</td>\n",
       "      <td>161</td>\n",
       "      <td>94</td>\n",
       "      <td>34.0</td>\n",
       "      <td>0</td>\n",
       "      <td>0</td>\n",
       "      <td>1</td>\n",
       "      <td>1</td>\n",
       "      <td>...</td>\n",
       "      <td>Yes</td>\n",
       "      <td>Upsloping</td>\n",
       "      <td>0</td>\n",
       "      <td>Normal</td>\n",
       "      <td>1</td>\n",
       "      <td>0</td>\n",
       "      <td>Rural</td>\n",
       "      <td>Retired</td>\n",
       "      <td>Single</td>\n",
       "      <td>Heart Attack</td>\n",
       "    </tr>\n",
       "    <tr>\n",
       "      <th>3</th>\n",
       "      <td>53</td>\n",
       "      <td>Male</td>\n",
       "      <td>268</td>\n",
       "      <td>134</td>\n",
       "      <td>91</td>\n",
       "      <td>35.0</td>\n",
       "      <td>0</td>\n",
       "      <td>1</td>\n",
       "      <td>1</td>\n",
       "      <td>0</td>\n",
       "      <td>...</td>\n",
       "      <td>Yes</td>\n",
       "      <td>Flat</td>\n",
       "      <td>0</td>\n",
       "      <td>Reversible defect</td>\n",
       "      <td>1</td>\n",
       "      <td>0</td>\n",
       "      <td>Suburban</td>\n",
       "      <td>Retired</td>\n",
       "      <td>Widowed</td>\n",
       "      <td>No Heart Attack</td>\n",
       "    </tr>\n",
       "    <tr>\n",
       "      <th>4</th>\n",
       "      <td>57</td>\n",
       "      <td>Female</td>\n",
       "      <td>203</td>\n",
       "      <td>140</td>\n",
       "      <td>75</td>\n",
       "      <td>30.1</td>\n",
       "      <td>0</td>\n",
       "      <td>1</td>\n",
       "      <td>0</td>\n",
       "      <td>0</td>\n",
       "      <td>...</td>\n",
       "      <td>Yes</td>\n",
       "      <td>Flat</td>\n",
       "      <td>0</td>\n",
       "      <td>Fixed defect</td>\n",
       "      <td>1</td>\n",
       "      <td>0</td>\n",
       "      <td>Rural</td>\n",
       "      <td>Retired</td>\n",
       "      <td>Married</td>\n",
       "      <td>Heart Attack</td>\n",
       "    </tr>\n",
       "  </tbody>\n",
       "</table>\n",
       "<p>5 rows × 32 columns</p>\n",
       "</div>"
      ],
      "text/plain": [
       "   Age  Gender  Cholesterol  BloodPressure  HeartRate   BMI  Smoker  Diabetes  \\\n",
       "0   31    Male          194            162         71  22.9       0         1   \n",
       "1   69    Male          208            148         93  33.9       1         1   \n",
       "2   34  Female          132            161         94  34.0       0         0   \n",
       "3   53    Male          268            134         91  35.0       0         1   \n",
       "4   57  Female          203            140         75  30.1       0         1   \n",
       "\n",
       "   Hypertension  FamilyHistory  ...  ExerciseInducedAngina        Slope  \\\n",
       "0             0              0  ...                    Yes  Downsloping   \n",
       "1             0              0  ...                    Yes    Upsloping   \n",
       "2             1              1  ...                    Yes    Upsloping   \n",
       "3             1              0  ...                    Yes         Flat   \n",
       "4             0              0  ...                    Yes         Flat   \n",
       "\n",
       "  NumberOfMajorVessels        Thalassemia PreviousHeartAttack  StrokeHistory  \\\n",
       "0                    1             Normal                   0              0   \n",
       "1                    2             Normal                   0              0   \n",
       "2                    0             Normal                   1              0   \n",
       "3                    0  Reversible defect                   1              0   \n",
       "4                    0       Fixed defect                   1              0   \n",
       "\n",
       "  Residence EmploymentStatus MaritalStatus          Outcome  \n",
       "0  Suburban          Retired        Single  No Heart Attack  \n",
       "1  Suburban       Unemployed       Married  No Heart Attack  \n",
       "2     Rural          Retired        Single     Heart Attack  \n",
       "3  Suburban          Retired       Widowed  No Heart Attack  \n",
       "4     Rural          Retired       Married     Heart Attack  \n",
       "\n",
       "[5 rows x 32 columns]"
      ]
     },
     "execution_count": 54,
     "metadata": {},
     "output_type": "execute_result"
    }
   ],
   "source": [
    "import pandas as pd \n",
    "import numpy as np \n",
    "import matplotlib as plt \n",
    "import seaborn as sns \n",
    "\n",
    "# Load_datasets\n",
    "df = pd.read_csv(r\"E:\\DATA_PROCESSING_PROJECTS\\heart_attack_dataset.csv\")\n",
    "print(df.shape)\n",
    "df.head()"
   ]
  },
  {
   "cell_type": "markdown",
   "id": "fc7727ed-2106-411d-87c8-923f5b3d7aa2",
   "metadata": {},
   "source": [
    "✅ 2. Check Column Names\n",
    "Let's rename and clean the column names if necessary (spaces, inconsistent casing, etc.):"
   ]
  },
  {
   "cell_type": "code",
   "execution_count": 56,
   "id": "72628642-cdfe-4052-829a-e93f008b22b2",
   "metadata": {
    "execution": {
     "iopub.execute_input": "2025-04-08T08:30:18.210887Z",
     "iopub.status.busy": "2025-04-08T08:30:18.210887Z",
     "iopub.status.idle": "2025-04-08T08:30:18.216923Z",
     "shell.execute_reply": "2025-04-08T08:30:18.216244Z",
     "shell.execute_reply.started": "2025-04-08T08:30:18.210887Z"
    }
   },
   "outputs": [
    {
     "data": {
      "text/plain": [
       "Index(['Age', 'Gender', 'Cholesterol', 'BloodPressure', 'HeartRate', 'BMI',\n",
       "       'Smoker', 'Diabetes', 'Hypertension', 'FamilyHistory',\n",
       "       'PhysicalActivity', 'AlcoholConsumption', 'Diet', 'StressLevel',\n",
       "       'Ethnicity', 'Income', 'EducationLevel', 'Medication', 'ChestPainType',\n",
       "       'ECGResults', 'MaxHeartRate', 'ST_Depression', 'ExerciseInducedAngina',\n",
       "       'Slope', 'NumberOfMajorVessels', 'Thalassemia', 'PreviousHeartAttack',\n",
       "       'StrokeHistory', 'Residence', 'EmploymentStatus', 'MaritalStatus',\n",
       "       'Outcome'],\n",
       "      dtype='object')"
      ]
     },
     "execution_count": 56,
     "metadata": {},
     "output_type": "execute_result"
    }
   ],
   "source": [
    "df.columns"
   ]
  },
  {
   "cell_type": "code",
   "execution_count": 58,
   "id": "787d6e7c-f648-4097-9cf9-62b40bbdbf83",
   "metadata": {
    "execution": {
     "iopub.execute_input": "2025-04-08T08:30:20.418030Z",
     "iopub.status.busy": "2025-04-08T08:30:20.417102Z",
     "iopub.status.idle": "2025-04-08T08:30:20.568465Z",
     "shell.execute_reply": "2025-04-08T08:30:20.568465Z",
     "shell.execute_reply.started": "2025-04-08T08:30:20.418030Z"
    }
   },
   "outputs": [
    {
     "name": "stdout",
     "output_type": "stream",
     "text": [
      "<class 'pandas.core.frame.DataFrame'>\n",
      "RangeIndex: 372974 entries, 0 to 372973\n",
      "Data columns (total 32 columns):\n",
      " #   Column                 Non-Null Count   Dtype  \n",
      "---  ------                 --------------   -----  \n",
      " 0   Age                    372974 non-null  int64  \n",
      " 1   Gender                 372974 non-null  object \n",
      " 2   Cholesterol            372974 non-null  int64  \n",
      " 3   BloodPressure          372974 non-null  int64  \n",
      " 4   HeartRate              372974 non-null  int64  \n",
      " 5   BMI                    372974 non-null  float64\n",
      " 6   Smoker                 372974 non-null  int64  \n",
      " 7   Diabetes               372974 non-null  int64  \n",
      " 8   Hypertension           372974 non-null  int64  \n",
      " 9   FamilyHistory          372974 non-null  int64  \n",
      " 10  PhysicalActivity       372974 non-null  int64  \n",
      " 11  AlcoholConsumption     372974 non-null  int64  \n",
      " 12  Diet                   372974 non-null  object \n",
      " 13  StressLevel            372974 non-null  int64  \n",
      " 14  Ethnicity              372974 non-null  object \n",
      " 15  Income                 372974 non-null  int64  \n",
      " 16  EducationLevel         372974 non-null  object \n",
      " 17  Medication             372974 non-null  object \n",
      " 18  ChestPainType          372974 non-null  object \n",
      " 19  ECGResults             372974 non-null  object \n",
      " 20  MaxHeartRate           372974 non-null  int64  \n",
      " 21  ST_Depression          372974 non-null  float64\n",
      " 22  ExerciseInducedAngina  372974 non-null  object \n",
      " 23  Slope                  372974 non-null  object \n",
      " 24  NumberOfMajorVessels   372974 non-null  int64  \n",
      " 25  Thalassemia            372974 non-null  object \n",
      " 26  PreviousHeartAttack    372974 non-null  int64  \n",
      " 27  StrokeHistory          372974 non-null  int64  \n",
      " 28  Residence              372974 non-null  object \n",
      " 29  EmploymentStatus       372974 non-null  object \n",
      " 30  MaritalStatus          372974 non-null  object \n",
      " 31  Outcome                372974 non-null  object \n",
      "dtypes: float64(2), int64(16), object(14)\n",
      "memory usage: 91.1+ MB\n"
     ]
    }
   ],
   "source": [
    "df.info()"
   ]
  },
  {
   "cell_type": "code",
   "execution_count": 60,
   "id": "0720045b-3bb5-4824-b92d-1562269542d5",
   "metadata": {
    "execution": {
     "iopub.execute_input": "2025-04-08T08:30:25.796722Z",
     "iopub.status.busy": "2025-04-08T08:30:25.796722Z",
     "iopub.status.idle": "2025-04-08T08:30:25.806176Z",
     "shell.execute_reply": "2025-04-08T08:30:25.806176Z",
     "shell.execute_reply.started": "2025-04-08T08:30:25.796722Z"
    }
   },
   "outputs": [],
   "source": [
    "\n",
    "\n",
    "df.columns = df.columns.str.strip().str.replace(\" \",\"_\").str.replace(\":\",\"\").str.replace(\".\",\"\").str.lower()"
   ]
  },
  {
   "cell_type": "code",
   "execution_count": 15,
   "id": "3bb69f96-af90-4d7c-a2d5-e5cf0000a21e",
   "metadata": {
    "execution": {
     "iopub.execute_input": "2025-04-08T08:02:46.842425Z",
     "iopub.status.busy": "2025-04-08T08:02:46.842425Z",
     "iopub.status.idle": "2025-04-08T08:02:46.850777Z",
     "shell.execute_reply": "2025-04-08T08:02:46.849765Z",
     "shell.execute_reply.started": "2025-04-08T08:02:46.842425Z"
    }
   },
   "outputs": [
    {
     "data": {
      "text/plain": [
       "Index(['age', 'gender', 'cholesterol', 'bloodpressure', 'heartrate', 'bmi',\n",
       "       'smoker', 'diabetes', 'hypertension', 'familyhistory',\n",
       "       'physicalactivity', 'alcoholconsumption', 'diet', 'stresslevel',\n",
       "       'ethnicity', 'income', 'educationlevel', 'medication', 'chestpaintype',\n",
       "       'ecgresults', 'maxheartrate', 'stdepression', 'exerciseinducedangina',\n",
       "       'slope', 'numberofmajorvessels', 'thalassemia', 'previousheartattack',\n",
       "       'strokehistory', 'residence', 'employmentstatus', 'maritalstatus',\n",
       "       'outcome'],\n",
       "      dtype='object')"
      ]
     },
     "execution_count": 15,
     "metadata": {},
     "output_type": "execute_result"
    }
   ],
   "source": [
    "df.columns"
   ]
  },
  {
   "cell_type": "markdown",
   "id": "2ee81a42-eae9-435b-a759-32f4bf05d14b",
   "metadata": {},
   "source": [
    "3. Handle Missing Values"
   ]
  },
  {
   "cell_type": "code",
   "execution_count": 62,
   "id": "b52f5094-f7b0-4af9-a79b-f41ad582e720",
   "metadata": {
    "execution": {
     "iopub.execute_input": "2025-04-08T08:33:21.937255Z",
     "iopub.status.busy": "2025-04-08T08:33:21.937255Z",
     "iopub.status.idle": "2025-04-08T08:33:23.197161Z",
     "shell.execute_reply": "2025-04-08T08:33:23.197161Z",
     "shell.execute_reply.started": "2025-04-08T08:33:21.937255Z"
    }
   },
   "outputs": [
    {
     "name": "stdout",
     "output_type": "stream",
     "text": [
      "age                      0\n",
      "gender                   0\n",
      "cholesterol              0\n",
      "bloodpressure            0\n",
      "heartrate                0\n",
      "bmi                      0\n",
      "smoker                   0\n",
      "diabetes                 0\n",
      "hypertension             0\n",
      "familyhistory            0\n",
      "physicalactivity         0\n",
      "alcoholconsumption       0\n",
      "diet                     0\n",
      "stresslevel              0\n",
      "ethnicity                0\n",
      "income                   0\n",
      "educationlevel           0\n",
      "medication               0\n",
      "chestpaintype            0\n",
      "ecgresults               0\n",
      "maxheartrate             0\n",
      "st_depression            0\n",
      "exerciseinducedangina    0\n",
      "slope                    0\n",
      "numberofmajorvessels     0\n",
      "thalassemia              0\n",
      "previousheartattack      0\n",
      "strokehistory            0\n",
      "residence                0\n",
      "employmentstatus         0\n",
      "maritalstatus            0\n",
      "outcome                  0\n",
      "dtype: int64\n"
     ]
    }
   ],
   "source": [
    "# Check missing values\n",
    "print(df.isnull().sum())\n",
    "\n",
    "# Option 1: Drop rows with missing values\n",
    "df = df.dropna()\n",
    "\n",
    "# Option 2: Fill missing values\n",
    "# For numerical columns\n",
    "num_cols = df.select_dtypes(include=['float64', 'int64']).columns\n",
    "df[num_cols] = df[num_cols].fillna(df[num_cols].mean())\n",
    "\n",
    "# For categorical columns\n",
    "cat_cols = df.select_dtypes(include='object').columns\n",
    "df[cat_cols] = df[cat_cols].fillna(df[cat_cols].mode().iloc[0])\n"
   ]
  },
  {
   "cell_type": "markdown",
   "id": "61fa8249-254c-403d-baf1-e734d0ce8ca9",
   "metadata": {},
   "source": [
    "4. remove duplicates \n"
   ]
  },
  {
   "cell_type": "code",
   "execution_count": 64,
   "id": "9ef9820c-47d2-4c67-b113-c0a56bba812f",
   "metadata": {
    "execution": {
     "iopub.execute_input": "2025-04-08T08:33:27.393082Z",
     "iopub.status.busy": "2025-04-08T08:33:27.393082Z",
     "iopub.status.idle": "2025-04-08T08:33:27.823974Z",
     "shell.execute_reply": "2025-04-08T08:33:27.823974Z",
     "shell.execute_reply.started": "2025-04-08T08:33:27.393082Z"
    }
   },
   "outputs": [
    {
     "data": {
      "text/plain": [
       "0         False\n",
       "1         False\n",
       "2         False\n",
       "3         False\n",
       "4         False\n",
       "          ...  \n",
       "372969    False\n",
       "372970    False\n",
       "372971    False\n",
       "372972    False\n",
       "372973    False\n",
       "Length: 372974, dtype: bool"
      ]
     },
     "execution_count": 64,
     "metadata": {},
     "output_type": "execute_result"
    }
   ],
   "source": [
    "# to check the duplicates \n",
    "df.duplicated()"
   ]
  },
  {
   "cell_type": "markdown",
   "id": "51aa696e-3592-4f69-b0af-957578a61faf",
   "metadata": {},
   "source": [
    "3 dropiing duplicates "
   ]
  },
  {
   "cell_type": "code",
   "execution_count": 66,
   "id": "85c04515-c459-4ce7-9f55-396555ef13da",
   "metadata": {
    "execution": {
     "iopub.execute_input": "2025-04-08T08:33:31.120413Z",
     "iopub.status.busy": "2025-04-08T08:33:31.120413Z",
     "iopub.status.idle": "2025-04-08T08:33:31.718577Z",
     "shell.execute_reply": "2025-04-08T08:33:31.718577Z",
     "shell.execute_reply.started": "2025-04-08T08:33:31.120413Z"
    }
   },
   "outputs": [],
   "source": [
    "df = df.drop_duplicates()"
   ]
  },
  {
   "cell_type": "markdown",
   "id": "024c4c7b-18ee-4ddd-9180-85c0b01a7ab3",
   "metadata": {},
   "source": [
    "5. Convert DataTypes "
   ]
  },
  {
   "cell_type": "code",
   "execution_count": 68,
   "id": "dc19dd1b-5386-4f20-b745-faca6fec9d78",
   "metadata": {
    "execution": {
     "iopub.execute_input": "2025-04-08T08:33:34.343068Z",
     "iopub.status.busy": "2025-04-08T08:33:34.343068Z",
     "iopub.status.idle": "2025-04-08T08:33:34.352970Z",
     "shell.execute_reply": "2025-04-08T08:33:34.352970Z",
     "shell.execute_reply.started": "2025-04-08T08:33:34.343068Z"
    }
   },
   "outputs": [
    {
     "data": {
      "text/plain": [
       "Index(['age', 'gender', 'cholesterol', 'bloodpressure', 'heartrate', 'bmi',\n",
       "       'smoker', 'diabetes', 'hypertension', 'familyhistory',\n",
       "       'physicalactivity', 'alcoholconsumption', 'diet', 'stresslevel',\n",
       "       'ethnicity', 'income', 'educationlevel', 'medication', 'chestpaintype',\n",
       "       'ecgresults', 'maxheartrate', 'st_depression', 'exerciseinducedangina',\n",
       "       'slope', 'numberofmajorvessels', 'thalassemia', 'previousheartattack',\n",
       "       'strokehistory', 'residence', 'employmentstatus', 'maritalstatus',\n",
       "       'outcome'],\n",
       "      dtype='object')"
      ]
     },
     "execution_count": 68,
     "metadata": {},
     "output_type": "execute_result"
    }
   ],
   "source": [
    "df.columns"
   ]
  },
  {
   "cell_type": "code",
   "execution_count": 74,
   "id": "308d885d-f3a2-4595-b4c3-13613674dd9e",
   "metadata": {
    "execution": {
     "iopub.execute_input": "2025-04-08T08:36:26.768902Z",
     "iopub.status.busy": "2025-04-08T08:36:26.768902Z",
     "iopub.status.idle": "2025-04-08T08:36:26.793498Z",
     "shell.execute_reply": "2025-04-08T08:36:26.793498Z",
     "shell.execute_reply.started": "2025-04-08T08:36:26.768902Z"
    }
   },
   "outputs": [],
   "source": [
    "df['outcome'] = df['outcome'].map({'No Heart Attack': 0, 'Heart Attack': 1})\n"
   ]
  },
  {
   "cell_type": "code",
   "execution_count": 76,
   "id": "ec7d5d80-80ee-4e1d-89ca-89026b3bbaa7",
   "metadata": {
    "execution": {
     "iopub.execute_input": "2025-04-08T08:36:29.500699Z",
     "iopub.status.busy": "2025-04-08T08:36:29.500699Z",
     "iopub.status.idle": "2025-04-08T08:36:29.514285Z",
     "shell.execute_reply": "2025-04-08T08:36:29.513536Z",
     "shell.execute_reply.started": "2025-04-08T08:36:29.500699Z"
    }
   },
   "outputs": [],
   "source": [
    "df['age'] = df[\"age\"].astype(int)\n",
    "df['outcome'] = df['outcome'].astype(int)"
   ]
  },
  {
   "cell_type": "code",
   "execution_count": 78,
   "id": "f2cd1998-0805-4b9f-952e-826f0fe6153d",
   "metadata": {
    "execution": {
     "iopub.execute_input": "2025-04-08T08:38:13.611013Z",
     "iopub.status.busy": "2025-04-08T08:38:13.611013Z",
     "iopub.status.idle": "2025-04-08T08:38:13.617594Z",
     "shell.execute_reply": "2025-04-08T08:38:13.617594Z",
     "shell.execute_reply.started": "2025-04-08T08:38:13.611013Z"
    }
   },
   "outputs": [
    {
     "data": {
      "text/plain": [
       "Index(['age', 'gender', 'cholesterol', 'bloodpressure', 'heartrate', 'bmi',\n",
       "       'smoker', 'diabetes', 'hypertension', 'familyhistory',\n",
       "       'physicalactivity', 'alcoholconsumption', 'diet', 'stresslevel',\n",
       "       'ethnicity', 'income', 'educationlevel', 'medication', 'chestpaintype',\n",
       "       'ecgresults', 'maxheartrate', 'st_depression', 'exerciseinducedangina',\n",
       "       'slope', 'numberofmajorvessels', 'thalassemia', 'previousheartattack',\n",
       "       'strokehistory', 'residence', 'employmentstatus', 'maritalstatus',\n",
       "       'outcome'],\n",
       "      dtype='object')"
      ]
     },
     "execution_count": 78,
     "metadata": {},
     "output_type": "execute_result"
    }
   ],
   "source": [
    "df.columns "
   ]
  },
  {
   "cell_type": "code",
   "execution_count": 80,
   "id": "27ed9e02-3215-4384-b71c-233db365989c",
   "metadata": {
    "execution": {
     "iopub.execute_input": "2025-04-08T08:38:25.962549Z",
     "iopub.status.busy": "2025-04-08T08:38:25.961617Z",
     "iopub.status.idle": "2025-04-08T08:38:26.106910Z",
     "shell.execute_reply": "2025-04-08T08:38:26.105867Z",
     "shell.execute_reply.started": "2025-04-08T08:38:25.962549Z"
    }
   },
   "outputs": [
    {
     "name": "stdout",
     "output_type": "stream",
     "text": [
      "<class 'pandas.core.frame.DataFrame'>\n",
      "RangeIndex: 372974 entries, 0 to 372973\n",
      "Data columns (total 32 columns):\n",
      " #   Column                 Non-Null Count   Dtype  \n",
      "---  ------                 --------------   -----  \n",
      " 0   age                    372974 non-null  int32  \n",
      " 1   gender                 372974 non-null  object \n",
      " 2   cholesterol            372974 non-null  int64  \n",
      " 3   bloodpressure          372974 non-null  int64  \n",
      " 4   heartrate              372974 non-null  int64  \n",
      " 5   bmi                    372974 non-null  float64\n",
      " 6   smoker                 372974 non-null  int64  \n",
      " 7   diabetes               372974 non-null  int64  \n",
      " 8   hypertension           372974 non-null  int64  \n",
      " 9   familyhistory          372974 non-null  int64  \n",
      " 10  physicalactivity       372974 non-null  int64  \n",
      " 11  alcoholconsumption     372974 non-null  int64  \n",
      " 12  diet                   372974 non-null  object \n",
      " 13  stresslevel            372974 non-null  int64  \n",
      " 14  ethnicity              372974 non-null  object \n",
      " 15  income                 372974 non-null  int64  \n",
      " 16  educationlevel         372974 non-null  object \n",
      " 17  medication             372974 non-null  object \n",
      " 18  chestpaintype          372974 non-null  object \n",
      " 19  ecgresults             372974 non-null  object \n",
      " 20  maxheartrate           372974 non-null  int64  \n",
      " 21  st_depression          372974 non-null  float64\n",
      " 22  exerciseinducedangina  372974 non-null  object \n",
      " 23  slope                  372974 non-null  object \n",
      " 24  numberofmajorvessels   372974 non-null  int64  \n",
      " 25  thalassemia            372974 non-null  object \n",
      " 26  previousheartattack    372974 non-null  int64  \n",
      " 27  strokehistory          372974 non-null  int64  \n",
      " 28  residence              372974 non-null  object \n",
      " 29  employmentstatus       372974 non-null  object \n",
      " 30  maritalstatus          372974 non-null  object \n",
      " 31  outcome                372974 non-null  int32  \n",
      "dtypes: float64(2), int32(2), int64(15), object(13)\n",
      "memory usage: 88.2+ MB\n"
     ]
    }
   ],
   "source": [
    "df.info()"
   ]
  },
  {
   "cell_type": "markdown",
   "id": "ab3cbdd2-dcd1-4abb-8f5d-83a669e9285a",
   "metadata": {},
   "source": [
    " 6. Encode Categorical Features\n",
    "Using Label Encoding or One-Hot Encoding depending on the model:"
   ]
  },
  {
   "cell_type": "code",
   "execution_count": 84,
   "id": "a29c1b0d-88f8-4bb5-ae2b-0394d6da67de",
   "metadata": {
    "execution": {
     "iopub.execute_input": "2025-04-08T08:41:06.049249Z",
     "iopub.status.busy": "2025-04-08T08:41:06.049249Z",
     "iopub.status.idle": "2025-04-08T08:41:06.055231Z",
     "shell.execute_reply": "2025-04-08T08:41:06.054478Z",
     "shell.execute_reply.started": "2025-04-08T08:41:06.049249Z"
    }
   },
   "outputs": [],
   "source": [
    "from sklearn.preprocessing import LabelEncoder\n",
    "\n",
    "# label encode binary categorical variable \n",
    "label_enc = LabelEncoder()\n"
   ]
  },
  {
   "cell_type": "code",
   "execution_count": 90,
   "id": "ab116ff9-401f-4dc0-a10a-ad25628c1f07",
   "metadata": {
    "execution": {
     "iopub.execute_input": "2025-04-08T08:46:12.515538Z",
     "iopub.status.busy": "2025-04-08T08:46:12.515538Z",
     "iopub.status.idle": "2025-04-08T08:46:12.520370Z",
     "shell.execute_reply": "2025-04-08T08:46:12.520370Z",
     "shell.execute_reply.started": "2025-04-08T08:46:12.515538Z"
    }
   },
   "outputs": [
    {
     "data": {
      "text/plain": [
       "Index(['age', 'gender', 'cholesterol', 'bloodpressure', 'heartrate', 'bmi',\n",
       "       'smoker', 'diabetes', 'hypertension', 'familyhistory',\n",
       "       'physicalactivity', 'alcoholconsumption', 'diet', 'stresslevel',\n",
       "       'ethnicity', 'income', 'educationlevel', 'medication', 'chestpaintype',\n",
       "       'ecgresults', 'maxheartrate', 'st_depression', 'exerciseinducedangina',\n",
       "       'slope', 'numberofmajorvessels', 'thalassemia', 'previousheartattack',\n",
       "       'strokehistory', 'residence', 'employmentstatus', 'maritalstatus',\n",
       "       'outcome'],\n",
       "      dtype='object')"
      ]
     },
     "execution_count": 90,
     "metadata": {},
     "output_type": "execute_result"
    }
   ],
   "source": [
    "df.columns"
   ]
  },
  {
   "cell_type": "code",
   "execution_count": 92,
   "id": "663e1950-ff9f-40a8-8680-6a85f190c28c",
   "metadata": {
    "execution": {
     "iopub.execute_input": "2025-04-08T08:48:29.289096Z",
     "iopub.status.busy": "2025-04-08T08:48:29.289096Z",
     "iopub.status.idle": "2025-04-08T08:48:29.752064Z",
     "shell.execute_reply": "2025-04-08T08:48:29.752064Z",
     "shell.execute_reply.started": "2025-04-08T08:48:29.289096Z"
    }
   },
   "outputs": [],
   "source": [
    "binaray_cols = ['gender','smoker','diabetes','hypertension','familyhistory','residence','maritalstatus']\n",
    "for col in binaray_cols: \n",
    "    df[col] = label_enc.fit_transform(df[col])\n",
    "\n",
    "# one_hot Encodeing mulicclas categorical variablesabs \n",
    "df = pd.get_dummies(df,columns=['chestpaintype','ethnicity','educationlevel','employmentstatus','diet'],drop_first=True)"
   ]
  },
  {
   "cell_type": "markdown",
   "id": "c16aeeb6-a344-41d0-b88d-3b9e56e047ec",
   "metadata": {},
   "source": [
    "7. Scale/Normalize Numerical Features"
   ]
  },
  {
   "cell_type": "code",
   "execution_count": 95,
   "id": "d48d6790-2a23-4e30-ad1c-e2c77e386c92",
   "metadata": {
    "execution": {
     "iopub.execute_input": "2025-04-08T08:49:55.587294Z",
     "iopub.status.busy": "2025-04-08T08:49:55.586286Z",
     "iopub.status.idle": "2025-04-08T08:49:55.681680Z",
     "shell.execute_reply": "2025-04-08T08:49:55.681680Z",
     "shell.execute_reply.started": "2025-04-08T08:49:55.587294Z"
    }
   },
   "outputs": [],
   "source": [
    "from sklearn.preprocessing import StandardScaler\n",
    "\n",
    "scaler = StandardScaler()\n",
    "num_cols = ['age', 'cholesterol', 'bloodpressure', 'heartrate', 'bmi', 'maxheartrate', 'st_depression']\n",
    "df[num_cols] = scaler.fit_transform(df[num_cols])\n"
   ]
  },
  {
   "cell_type": "code",
   "execution_count": 101,
   "id": "14906b95-ab1f-4ae2-a3eb-b30a3972a03d",
   "metadata": {
    "execution": {
     "iopub.execute_input": "2025-04-08T08:52:46.865014Z",
     "iopub.status.busy": "2025-04-08T08:52:46.865014Z",
     "iopub.status.idle": "2025-04-08T08:52:51.442338Z",
     "shell.execute_reply": "2025-04-08T08:52:51.442338Z",
     "shell.execute_reply.started": "2025-04-08T08:52:46.865014Z"
    }
   },
   "outputs": [],
   "source": [
    "df.to_csv(r\"E:\\_cleaned_data_processing.csv\", index=False)\n"
   ]
  },
  {
   "cell_type": "code",
   "execution_count": 103,
   "id": "8005ae4e-08fc-4ff3-97ae-dc34de9bf825",
   "metadata": {
    "execution": {
     "iopub.execute_input": "2025-04-08T08:56:32.104648Z",
     "iopub.status.busy": "2025-04-08T08:56:32.104648Z",
     "iopub.status.idle": "2025-04-08T08:56:32.233475Z",
     "shell.execute_reply": "2025-04-08T08:56:32.233105Z",
     "shell.execute_reply.started": "2025-04-08T08:56:32.104648Z"
    }
   },
   "outputs": [
    {
     "data": {
      "text/html": [
       "<div>\n",
       "<style scoped>\n",
       "    .dataframe tbody tr th:only-of-type {\n",
       "        vertical-align: middle;\n",
       "    }\n",
       "\n",
       "    .dataframe tbody tr th {\n",
       "        vertical-align: top;\n",
       "    }\n",
       "\n",
       "    .dataframe thead th {\n",
       "        text-align: right;\n",
       "    }\n",
       "</style>\n",
       "<table border=\"1\" class=\"dataframe\">\n",
       "  <thead>\n",
       "    <tr style=\"text-align: right;\">\n",
       "      <th></th>\n",
       "      <th>age</th>\n",
       "      <th>gender</th>\n",
       "      <th>cholesterol</th>\n",
       "      <th>bloodpressure</th>\n",
       "      <th>heartrate</th>\n",
       "      <th>bmi</th>\n",
       "      <th>smoker</th>\n",
       "      <th>diabetes</th>\n",
       "      <th>hypertension</th>\n",
       "      <th>familyhistory</th>\n",
       "      <th>...</th>\n",
       "      <th>ethnicity_Black</th>\n",
       "      <th>ethnicity_Hispanic</th>\n",
       "      <th>ethnicity_Other</th>\n",
       "      <th>ethnicity_White</th>\n",
       "      <th>educationlevel_High School</th>\n",
       "      <th>educationlevel_Postgraduate</th>\n",
       "      <th>employmentstatus_Retired</th>\n",
       "      <th>employmentstatus_Unemployed</th>\n",
       "      <th>diet_Moderate</th>\n",
       "      <th>diet_Unhealthy</th>\n",
       "    </tr>\n",
       "  </thead>\n",
       "  <tbody>\n",
       "    <tr>\n",
       "      <th>0</th>\n",
       "      <td>-1.637055</td>\n",
       "      <td>1</td>\n",
       "      <td>-0.094517</td>\n",
       "      <td>1.058007</td>\n",
       "      <td>-1.066449</td>\n",
       "      <td>-0.962380</td>\n",
       "      <td>0</td>\n",
       "      <td>1</td>\n",
       "      <td>0</td>\n",
       "      <td>0</td>\n",
       "      <td>...</td>\n",
       "      <td>False</td>\n",
       "      <td>True</td>\n",
       "      <td>False</td>\n",
       "      <td>False</td>\n",
       "      <td>True</td>\n",
       "      <td>False</td>\n",
       "      <td>True</td>\n",
       "      <td>False</td>\n",
       "      <td>False</td>\n",
       "      <td>True</td>\n",
       "    </tr>\n",
       "    <tr>\n",
       "      <th>1</th>\n",
       "      <td>0.757853</td>\n",
       "      <td>1</td>\n",
       "      <td>0.148019</td>\n",
       "      <td>0.519224</td>\n",
       "      <td>0.202101</td>\n",
       "      <td>0.771146</td>\n",
       "      <td>1</td>\n",
       "      <td>1</td>\n",
       "      <td>0</td>\n",
       "      <td>0</td>\n",
       "      <td>...</td>\n",
       "      <td>False</td>\n",
       "      <td>False</td>\n",
       "      <td>False</td>\n",
       "      <td>False</td>\n",
       "      <td>False</td>\n",
       "      <td>False</td>\n",
       "      <td>False</td>\n",
       "      <td>True</td>\n",
       "      <td>False</td>\n",
       "      <td>True</td>\n",
       "    </tr>\n",
       "    <tr>\n",
       "      <th>2</th>\n",
       "      <td>-1.447984</td>\n",
       "      <td>0</td>\n",
       "      <td>-1.168607</td>\n",
       "      <td>1.019522</td>\n",
       "      <td>0.259762</td>\n",
       "      <td>0.786905</td>\n",
       "      <td>0</td>\n",
       "      <td>0</td>\n",
       "      <td>1</td>\n",
       "      <td>1</td>\n",
       "      <td>...</td>\n",
       "      <td>True</td>\n",
       "      <td>False</td>\n",
       "      <td>False</td>\n",
       "      <td>False</td>\n",
       "      <td>False</td>\n",
       "      <td>False</td>\n",
       "      <td>True</td>\n",
       "      <td>False</td>\n",
       "      <td>False</td>\n",
       "      <td>False</td>\n",
       "    </tr>\n",
       "    <tr>\n",
       "      <th>3</th>\n",
       "      <td>-0.250530</td>\n",
       "      <td>1</td>\n",
       "      <td>1.187461</td>\n",
       "      <td>-0.019559</td>\n",
       "      <td>0.086778</td>\n",
       "      <td>0.944498</td>\n",
       "      <td>0</td>\n",
       "      <td>1</td>\n",
       "      <td>1</td>\n",
       "      <td>0</td>\n",
       "      <td>...</td>\n",
       "      <td>False</td>\n",
       "      <td>True</td>\n",
       "      <td>False</td>\n",
       "      <td>False</td>\n",
       "      <td>True</td>\n",
       "      <td>False</td>\n",
       "      <td>True</td>\n",
       "      <td>False</td>\n",
       "      <td>False</td>\n",
       "      <td>False</td>\n",
       "    </tr>\n",
       "    <tr>\n",
       "      <th>4</th>\n",
       "      <td>0.001566</td>\n",
       "      <td>0</td>\n",
       "      <td>0.061399</td>\n",
       "      <td>0.211348</td>\n",
       "      <td>-0.835804</td>\n",
       "      <td>0.172291</td>\n",
       "      <td>0</td>\n",
       "      <td>1</td>\n",
       "      <td>0</td>\n",
       "      <td>0</td>\n",
       "      <td>...</td>\n",
       "      <td>False</td>\n",
       "      <td>True</td>\n",
       "      <td>False</td>\n",
       "      <td>False</td>\n",
       "      <td>True</td>\n",
       "      <td>False</td>\n",
       "      <td>True</td>\n",
       "      <td>False</td>\n",
       "      <td>True</td>\n",
       "      <td>False</td>\n",
       "    </tr>\n",
       "    <tr>\n",
       "      <th>...</th>\n",
       "      <td>...</td>\n",
       "      <td>...</td>\n",
       "      <td>...</td>\n",
       "      <td>...</td>\n",
       "      <td>...</td>\n",
       "      <td>...</td>\n",
       "      <td>...</td>\n",
       "      <td>...</td>\n",
       "      <td>...</td>\n",
       "      <td>...</td>\n",
       "      <td>...</td>\n",
       "      <td>...</td>\n",
       "      <td>...</td>\n",
       "      <td>...</td>\n",
       "      <td>...</td>\n",
       "      <td>...</td>\n",
       "      <td>...</td>\n",
       "      <td>...</td>\n",
       "      <td>...</td>\n",
       "      <td>...</td>\n",
       "      <td>...</td>\n",
       "    </tr>\n",
       "    <tr>\n",
       "      <th>372969</th>\n",
       "      <td>-0.502625</td>\n",
       "      <td>0</td>\n",
       "      <td>1.481969</td>\n",
       "      <td>-0.135013</td>\n",
       "      <td>-0.605158</td>\n",
       "      <td>-0.221692</td>\n",
       "      <td>0</td>\n",
       "      <td>1</td>\n",
       "      <td>1</td>\n",
       "      <td>1</td>\n",
       "      <td>...</td>\n",
       "      <td>False</td>\n",
       "      <td>True</td>\n",
       "      <td>False</td>\n",
       "      <td>False</td>\n",
       "      <td>False</td>\n",
       "      <td>True</td>\n",
       "      <td>False</td>\n",
       "      <td>False</td>\n",
       "      <td>False</td>\n",
       "      <td>True</td>\n",
       "    </tr>\n",
       "    <tr>\n",
       "      <th>372970</th>\n",
       "      <td>1.262044</td>\n",
       "      <td>1</td>\n",
       "      <td>-0.042545</td>\n",
       "      <td>0.942553</td>\n",
       "      <td>-1.470079</td>\n",
       "      <td>0.708108</td>\n",
       "      <td>0</td>\n",
       "      <td>1</td>\n",
       "      <td>0</td>\n",
       "      <td>1</td>\n",
       "      <td>...</td>\n",
       "      <td>False</td>\n",
       "      <td>False</td>\n",
       "      <td>False</td>\n",
       "      <td>True</td>\n",
       "      <td>False</td>\n",
       "      <td>True</td>\n",
       "      <td>False</td>\n",
       "      <td>False</td>\n",
       "      <td>False</td>\n",
       "      <td>True</td>\n",
       "    </tr>\n",
       "    <tr>\n",
       "      <th>372971</th>\n",
       "      <td>-0.250530</td>\n",
       "      <td>0</td>\n",
       "      <td>0.754360</td>\n",
       "      <td>-1.558939</td>\n",
       "      <td>-0.316852</td>\n",
       "      <td>0.897220</td>\n",
       "      <td>1</td>\n",
       "      <td>1</td>\n",
       "      <td>1</td>\n",
       "      <td>0</td>\n",
       "      <td>...</td>\n",
       "      <td>False</td>\n",
       "      <td>False</td>\n",
       "      <td>True</td>\n",
       "      <td>False</td>\n",
       "      <td>False</td>\n",
       "      <td>True</td>\n",
       "      <td>True</td>\n",
       "      <td>False</td>\n",
       "      <td>True</td>\n",
       "      <td>False</td>\n",
       "    </tr>\n",
       "    <tr>\n",
       "      <th>372972</th>\n",
       "      <td>1.325068</td>\n",
       "      <td>0</td>\n",
       "      <td>1.585913</td>\n",
       "      <td>-1.597423</td>\n",
       "      <td>-0.662820</td>\n",
       "      <td>0.046217</td>\n",
       "      <td>1</td>\n",
       "      <td>1</td>\n",
       "      <td>0</td>\n",
       "      <td>1</td>\n",
       "      <td>...</td>\n",
       "      <td>True</td>\n",
       "      <td>False</td>\n",
       "      <td>False</td>\n",
       "      <td>False</td>\n",
       "      <td>True</td>\n",
       "      <td>False</td>\n",
       "      <td>False</td>\n",
       "      <td>False</td>\n",
       "      <td>False</td>\n",
       "      <td>False</td>\n",
       "    </tr>\n",
       "    <tr>\n",
       "      <th>372973</th>\n",
       "      <td>0.883901</td>\n",
       "      <td>1</td>\n",
       "      <td>-1.255227</td>\n",
       "      <td>0.711646</td>\n",
       "      <td>-0.374513</td>\n",
       "      <td>1.685186</td>\n",
       "      <td>1</td>\n",
       "      <td>1</td>\n",
       "      <td>1</td>\n",
       "      <td>0</td>\n",
       "      <td>...</td>\n",
       "      <td>False</td>\n",
       "      <td>False</td>\n",
       "      <td>True</td>\n",
       "      <td>False</td>\n",
       "      <td>True</td>\n",
       "      <td>False</td>\n",
       "      <td>False</td>\n",
       "      <td>True</td>\n",
       "      <td>False</td>\n",
       "      <td>True</td>\n",
       "    </tr>\n",
       "  </tbody>\n",
       "</table>\n",
       "<p>372974 rows × 40 columns</p>\n",
       "</div>"
      ],
      "text/plain": [
       "             age  gender  cholesterol  bloodpressure  heartrate       bmi  \\\n",
       "0      -1.637055       1    -0.094517       1.058007  -1.066449 -0.962380   \n",
       "1       0.757853       1     0.148019       0.519224   0.202101  0.771146   \n",
       "2      -1.447984       0    -1.168607       1.019522   0.259762  0.786905   \n",
       "3      -0.250530       1     1.187461      -0.019559   0.086778  0.944498   \n",
       "4       0.001566       0     0.061399       0.211348  -0.835804  0.172291   \n",
       "...          ...     ...          ...            ...        ...       ...   \n",
       "372969 -0.502625       0     1.481969      -0.135013  -0.605158 -0.221692   \n",
       "372970  1.262044       1    -0.042545       0.942553  -1.470079  0.708108   \n",
       "372971 -0.250530       0     0.754360      -1.558939  -0.316852  0.897220   \n",
       "372972  1.325068       0     1.585913      -1.597423  -0.662820  0.046217   \n",
       "372973  0.883901       1    -1.255227       0.711646  -0.374513  1.685186   \n",
       "\n",
       "        smoker  diabetes  hypertension  familyhistory  ...  ethnicity_Black  \\\n",
       "0            0         1             0              0  ...            False   \n",
       "1            1         1             0              0  ...            False   \n",
       "2            0         0             1              1  ...             True   \n",
       "3            0         1             1              0  ...            False   \n",
       "4            0         1             0              0  ...            False   \n",
       "...        ...       ...           ...            ...  ...              ...   \n",
       "372969       0         1             1              1  ...            False   \n",
       "372970       0         1             0              1  ...            False   \n",
       "372971       1         1             1              0  ...            False   \n",
       "372972       1         1             0              1  ...             True   \n",
       "372973       1         1             1              0  ...            False   \n",
       "\n",
       "        ethnicity_Hispanic  ethnicity_Other  ethnicity_White  \\\n",
       "0                     True            False            False   \n",
       "1                    False            False            False   \n",
       "2                    False            False            False   \n",
       "3                     True            False            False   \n",
       "4                     True            False            False   \n",
       "...                    ...              ...              ...   \n",
       "372969                True            False            False   \n",
       "372970               False            False             True   \n",
       "372971               False             True            False   \n",
       "372972               False            False            False   \n",
       "372973               False             True            False   \n",
       "\n",
       "       educationlevel_High School educationlevel_Postgraduate  \\\n",
       "0                            True                       False   \n",
       "1                           False                       False   \n",
       "2                           False                       False   \n",
       "3                            True                       False   \n",
       "4                            True                       False   \n",
       "...                           ...                         ...   \n",
       "372969                      False                        True   \n",
       "372970                      False                        True   \n",
       "372971                      False                        True   \n",
       "372972                       True                       False   \n",
       "372973                       True                       False   \n",
       "\n",
       "        employmentstatus_Retired  employmentstatus_Unemployed diet_Moderate  \\\n",
       "0                           True                        False         False   \n",
       "1                          False                         True         False   \n",
       "2                           True                        False         False   \n",
       "3                           True                        False         False   \n",
       "4                           True                        False          True   \n",
       "...                          ...                          ...           ...   \n",
       "372969                     False                        False         False   \n",
       "372970                     False                        False         False   \n",
       "372971                      True                        False          True   \n",
       "372972                     False                        False         False   \n",
       "372973                     False                         True         False   \n",
       "\n",
       "       diet_Unhealthy  \n",
       "0                True  \n",
       "1                True  \n",
       "2               False  \n",
       "3               False  \n",
       "4               False  \n",
       "...               ...  \n",
       "372969           True  \n",
       "372970           True  \n",
       "372971          False  \n",
       "372972          False  \n",
       "372973           True  \n",
       "\n",
       "[372974 rows x 40 columns]"
      ]
     },
     "execution_count": 103,
     "metadata": {},
     "output_type": "execute_result"
    }
   ],
   "source": [
    "df"
   ]
  },
  {
   "cell_type": "code",
   "execution_count": null,
   "id": "822d210c-7086-4bf4-b10e-1f118c36ba7c",
   "metadata": {},
   "outputs": [],
   "source": []
  }
 ],
 "metadata": {
  "firstTimeUsingHintbot": true,
  "kernelspec": {
   "display_name": "Python (DEEPLEARNING)",
   "language": "python",
   "name": "deeplearning"
  },
  "language_info": {
   "codemirror_mode": {
    "name": "ipython",
    "version": 3
   },
   "file_extension": ".py",
   "mimetype": "text/x-python",
   "name": "python",
   "nbconvert_exporter": "python",
   "pygments_lexer": "ipython3",
   "version": "3.11.9"
  }
 },
 "nbformat": 4,
 "nbformat_minor": 5
}
